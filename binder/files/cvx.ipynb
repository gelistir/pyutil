{
 "cells": [
  {
   "cell_type": "code",
   "execution_count": 1,
   "metadata": {},
   "outputs": [],
   "source": [
    "import numpy as np\n",
    "import pandas as pd"
   ]
  },
  {
   "cell_type": "code",
   "execution_count": 5,
   "metadata": {},
   "outputs": [],
   "source": [
    "# solution with cvxpy\n",
    "from pyutil.cvx.util import Solver, cvx"
   ]
  },
  {
   "cell_type": "code",
   "execution_count": 33,
   "metadata": {},
   "outputs": [],
   "source": [
    "# Find the center of a cloud of random points\n",
    "def __solver(n):\n",
    "    R = cvx.Variable(1, \"Radius\")\n",
    "    x = cvx.Variable(2, \"Midpoint\")\n",
    "    \n",
    "    points = cvx.Parameter((n,2), name=\"points\")\n",
    "    \n",
    "    # all points have to be within the radius \n",
    "    constraints = [cvx.norm(row - x, 2) <= R for row in points]\n",
    "    \n",
    "    s = Solver(problem=cvx.Problem(objective=cvx.Minimize(R), constraints=constraints))\n",
    "    return s\n",
    "    \n",
    "    \n",
    "def find_center(points):\n",
    "    n = points.shape[0]\n",
    "    s = __solver(n)\n",
    "    s.parameters[\"points\"].value = points\n",
    "    s.solve()\n",
    "    return s.variables[\"Radius\"].value, s.variables[\"Midpoint\"].value"
   ]
  },
  {
   "cell_type": "code",
   "execution_count": 34,
   "metadata": {},
   "outputs": [
    {
     "data": {
      "text/plain": [
       "(array([3.39368997]), array([-0.10630681, -0.30939141]))"
      ]
     },
     "execution_count": 34,
     "metadata": {},
     "output_type": "execute_result"
    }
   ],
   "source": [
    "find_center(np.random.randn(1000,2))"
   ]
  },
  {
   "cell_type": "code",
   "execution_count": null,
   "metadata": {},
   "outputs": [],
   "source": []
  }
 ],
 "metadata": {
  "kernelspec": {
   "display_name": "Python 3",
   "language": "python",
   "name": "python3"
  },
  "language_info": {
   "codemirror_mode": {
    "name": "ipython",
    "version": 3
   },
   "file_extension": ".py",
   "mimetype": "text/x-python",
   "name": "python",
   "nbconvert_exporter": "python",
   "pygments_lexer": "ipython3",
   "version": "3.7.3"
  },
  "toc": {
   "base_numbering": 1,
   "nav_menu": {},
   "number_sections": false,
   "sideBar": false,
   "skip_h1_title": false,
   "title_cell": "Table of Contents",
   "title_sidebar": "Contents",
   "toc_cell": false,
   "toc_position": {},
   "toc_section_display": false,
   "toc_window_display": false
  }
 },
 "nbformat": 4,
 "nbformat_minor": 2
}